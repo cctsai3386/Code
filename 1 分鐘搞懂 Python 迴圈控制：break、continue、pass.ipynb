{
 "cells": [
  {
   "cell_type": "markdown",
   "metadata": {},
   "source": [
    "1 分鐘搞懂 Python 迴圈控制：break、continue、pass\n",
    "在使用迴圈時，你是否遇過需要在特定情況下，提早結束本次迴圈的進行或是強制結束迴圈呢？這篇文章將會介紹如何使用 Python 中的 break、continue、pass 語句來改變正常迴圈的程序。\n",
    "先來簡單敘述一下 Python 中 break、continue、pass 的區別：\n",
    "break：強制跳出 ❮整個❯ 迴圈\n",
    "continue：強制跳出 ❮本次❯ 迴圈，繼續進入下一圈\n",
    "pass：不做任何事情，所有的程式都將繼續"
   ]
  },
  {
   "cell_type": "code",
   "execution_count": 1,
   "metadata": {},
   "outputs": [
    {
     "name": "stdout",
     "output_type": "stream",
     "text": [
      "c\n",
      "o\n",
      "n\n",
      "\n",
      "迴圈結束\n",
      "迴圈執行了 4 次\n"
     ]
    }
   ],
   "source": [
    "#break\n",
    "#當偵測到字母 t 時，就會強制結束迴圈：\n",
    "count=0\n",
    "for string in 'content':\n",
    "    count+=1\n",
    "    if string == 't':\n",
    "        break\n",
    "    print(string)\n",
    "    \n",
    "print('\\n迴圈結束')\n",
    "print('迴圈執行了 %d 次' %count)"
   ]
  },
  {
   "cell_type": "code",
   "execution_count": 2,
   "metadata": {},
   "outputs": [
    {
     "name": "stdout",
     "output_type": "stream",
     "text": [
      "c\n",
      "o\n",
      "n\n",
      "e\n",
      "n\n",
      "\n",
      "迴圈結束\n",
      "迴圈執行了 7 次\n"
     ]
    }
   ],
   "source": [
    "#continue\n",
    "#當偵測到字母 t 時，會跳過本次迴圈剩下的程式碼 print(string)，但不會結束迴圈，仍然會進入下一圈繼續執行：\n",
    "count=0\n",
    "for string in 'content':\n",
    "    count+=1\n",
    "    if string == 't':\n",
    "        continue\n",
    "    print(string)\n",
    "    \n",
    "print('\\n迴圈結束')\n",
    "print('迴圈執行了 %d 次' %count)"
   ]
  },
  {
   "cell_type": "code",
   "execution_count": 3,
   "metadata": {},
   "outputs": [
    {
     "name": "stdout",
     "output_type": "stream",
     "text": [
      "c\n",
      "o\n",
      "n\n",
      "t\n",
      "e\n",
      "n\n",
      "t\n",
      "\n",
      "迴圈結束\n",
      "迴圈執行了 7 次\n"
     ]
    }
   ],
   "source": [
    "#pass\n",
    "#當偵測到字母 t 時，會忽略該條件，繼續像正常迴圈一樣運行程序：\n",
    "count=0\n",
    "for string in 'content':\n",
    "    count+=1\n",
    "    if string == 't':\n",
    "        pass\n",
    "    print(string)\n",
    "    \n",
    "print('\\n迴圈結束')\n",
    "print('迴圈執行了 %d 次' %count)"
   ]
  },
  {
   "cell_type": "markdown",
   "metadata": {},
   "source": [
    "在迴圈中使用 pass 語句，執行程式後，你會發現什麼事也沒做，完全不起任何作用，只是一個空運算而已，那問題就來了：\n",
    "如果什麼事都不做，就不用寫拉，那 pass 語句是要做什麼的？ …… ✍︎\n",
    "其實有時候會有非寫不可的情況！！\n",
    "pass 就像是 To do 的概念，在寫程式的時候，有時候想的比實際寫出來的速度快，例如定義一個函數，但還沒有實作出來，空著內容不寫又會產生語法錯誤🤦‍♂️，這時就會使用 pass 來替代，當作是個指標，提醒自己之後要來完成。\n",
    "def myfunction():\n",
    "    pass  #提醒自己之後要來完成\n"
   ]
  },
  {
   "cell_type": "code",
   "execution_count": 4,
   "metadata": {},
   "outputs": [
    {
     "data": {
      "text/plain": [
       "[0, 2, 3, 5, 8, 9, 10]"
      ]
     },
     "execution_count": 4,
     "metadata": {},
     "output_type": "execute_result"
    }
   ],
   "source": [
    "#應用場景範例\n",
    "#情境 1：過濾\n",
    "#取出整數 { …, -2, -1, 0, 1, 2, … }，過濾掉非整數的值。\n",
    "# 定義函數\n",
    "def filter_out_non_int(elements):\n",
    "    result = []\n",
    "    for element in elements:\n",
    "        if type(element) != int:\n",
    "            continue\n",
    "        result.append(element)\n",
    "        \n",
    "    return result\n",
    "# 呼叫函數\n",
    "filter_out_non_int([0, 'one', 2, 3, 'four', 5, 'six', 'seven', 8, 9, 10])\n",
    "#📝 Note：利用 continue 告訴迴圈當 element 的 type 為非整數時，要跳出本次迴圈，繼續進入下一圈執行"
   ]
  },
  {
   "cell_type": "code",
   "execution_count": 5,
   "metadata": {},
   "outputs": [
    {
     "name": "stdout",
     "output_type": "stream",
     "text": [
      "carol@gmail.com 為個人信箱\n",
      "Support@gmail.com 中包含 support 關鍵字，因此判斷為官方信箱\n"
     ]
    }
   ],
   "source": [
    "#情境 2：比對\n",
    "#檢查 email 是否為公司官方信箱，如出現 hello、contact、sales、support、business、info 等關鍵字。\n",
    "import re\n",
    "# 定義函數\n",
    "def detect_email(email):\n",
    "    email_out = ['hello','contact','sales','support','business','info']\n",
    "    for e_out in email_out:\n",
    "        pattern = re.compile('.*' + e_out + '.*')\n",
    "        r = re.match(pattern, email.lower())\n",
    "        if r is not None:\n",
    "            print('{} 中包含 {} 關鍵字，因此判斷為官方信箱'.format(email, e_out))\n",
    "            break\n",
    "    else:\n",
    "        print('{} 為個人信箱'.format(email))\n",
    "        \n",
    "# 呼叫函數\n",
    "detect_email('carol@gmail.com')\n",
    "detect_email('Support@gmail.com')\n",
    "#📝 Note：利用 break 告訴迴圈當 email 字串中包含 email_out 列表 (List) 中的關鍵字時，要強制結束迴圈。"
   ]
  },
  {
   "cell_type": "markdown",
   "metadata": {},
   "source": [
    "正規運算式 (regular expression) 常用在對文件進行解析，例如做網路爬蟲去爬網路上的 HTML 文件，從中取得所欲取得之資訊，或是針對文件檔案進行處理。 Python 中做正規運算式的模組為 re ，首先要設定好配對形式 (pattern) 字串 (string) ，然後以該配對形式字串與所欲處理之字串利用 re 中相關功能的函數 (function) 進行處理。\n",
    "\n",
    "配對形式字串通常會用以 r 開始的原始字串 (raw string) ，例如 r\"str\" 。此外，配對形式字串需要用到很多中介字元 (metacharacter) ，如下\n",
    "\n",
    ". ^ $ * + ? { } [ ] \\ | ( )\n",
    "使用原始字串的原因是避免在字串中出現過多的反斜線，因為反斜線在字串中預設為跳脫序列 (escape sequence) ，像是 \"\\\\\\\\\" 為反斜線 \\ 的配對形式字串。\n",
    "下表為中介字元的說明\n",
    "\n",
    "中介字元\t說明\n",
    ".\t除了新行符號外的任何字元，例如 '.' 配對除了 '\\n' 之外的任何字元。\n",
    "^\t字串開頭的子字串或排除指定字元或群組，例如 'a[^b]c' 配對除了 'abc' 之外的任何 a 開頭 c 結尾的三字元組合。\n",
    "$\t字串結尾的子字串，例如 'abc$' 配對以 'abc' 結尾的字串。\n",
    "*\t單一字元或群組出現任意次數，例如 'ab*' 配對 'a' 、 'ab' 或 'abb' 等等。\n",
    "+\t單一字元或群組出現至少一次，例如 'ab+' 配對 'ab' 或 'abb' 等等。\n",
    "?\t單一字元或群組 0 或 1 次，例如 'ab+' 配對 'a' 或 'ab' 。\n",
    "{m,n}\t單一字元或群組的 m 到 n 倍數，例如 'a{6}' 為連續六個 'a' ， 'a{3,6}' 為三到六個 'a' 。\n",
    "[]\t對中括弧內的字元形成集合，例如 '[a-z]' 為所有英文小寫字母。\n",
    "\\\t特別序列的起始字元。\n",
    "|\t單一字元或群組的或，例如 'a|b' 為 'a' 或 'b' 。\n",
    "()\t對小括弧內的字元形成群組。\n",
    "\n",
    " \n",
    "以下為特別序列的說明\n",
    "\n",
    "特別序列\t說明\n",
    "\\number\t群組的序數\n",
    "\\A\t字串的開頭字元。\n",
    "\\b\t作為單字的界線字元，例如 r'\\bfoo\\b' 配對 'foo' 或 'bar foo baz' 。\n",
    "\\B\t作為字元的界線字元，例如 r'py\\B' 配對 'python' 或 'py3' 。\n",
    "\\d\t數字，從 0 到 9 。\n",
    "\\D\t非數字。\n",
    "\\s\t各種空白符號，包括新行符號 \\n 。\n",
    "\\S\t非空白符號。\n",
    "\\w\t任意文字字元，包括數字。\n",
    "\\W\t非文字字元，包括空白符號。\n",
    "\\Z\t字串的結尾字元。\n",
    "re 中有很多函數，以下列舉一些常用的函數\n",
    "\n",
    "函數\t說明\n",
    "compile(pattern)\t以配對形式字串 pattern 當參數，回傳 re.compile() 物件。\n",
    "search(pattern, string, flags=0)\t從 string 中找尋第一個配對形式字串 pattern ，找到回傳配對物件，沒有找到回傳 None 。\n",
    "\n",
    " \n",
    "match(pattern, string, flags=0)\t判斷配對形式字串 pattern 是否與 string 的開頭相符，如果相符就回傳配對物件，不相符就回傳 None 。\n",
    "fullmatch(pattern, string, flags=0)\t判斷 string 是否與配對形式字串 pattern 完全相符，如果完全相符就回傳配對物件，不完全相符就回傳 None 。\n",
    "split(pattern, string, maxsplit=0, flags=0)\t將 string 以配對形式字串 pattern 拆解，結果回傳拆解後的串列。\n",
    "findall(pattern, string, flags=0)\t從 string 中找到所有的 pattern ，結果回傳所有 pattern 的串列。\n",
    "finditer(pattern, string, flags=0)\t從 string 中找到所有的 pattern ，結果回傳所有 pattern 的迭代器。\n",
    "sub(pattern, repl, string, count=0, flags=0)\t依據 pattern 及 repl 對 string 進行處理，結果回傳處理過的新字串。\n",
    "subn(pattern, repl, string, count=0, flags=0)\t依據 pattern 及 repl 對 string 進行處理，結果回傳處理過的序對。\n",
    "escape(pattern)\t將 pattern 中的特殊字元加入反斜線，結果回傳新字串。\n",
    "purge()\t清除正規運算式的內部緩存。\n",
    "以上參數 flag 可依據需要用 re 的內建常數進行設定，細節請參考官方文件的 The Python Standard Library - 6.2. re — Regular expression operations 。\n",
    "re.compile() 物件的方法大致與以上函數類似。\n",
    "其中配對物件 (match object) 有以下常用的方法\n",
    "\n",
    "方法\t說明\n",
    "group([group1, ...])\t回傳依據配對形式字串所符合的子字串。\n",
    "groups(default=None)\t回傳依據配對形式字串所符合的序對。\n",
    "groupdict(default=None)\t回傳依據配對形式字串所符合的字典。\n",
    "start([group])\t回傳依據配對形式字串所符合的起始索引值。\n",
    "end([group])\t回傳依據配對形式字串所符合的結束索引值。\n",
    "span([group])\t回傳 (m.start(group), m.end(group)) 。\n",
    "\n",
    " \n",
    "由於配對物件的布林值為 true ，而 search() 或 match() 等函數在沒有得到配對結果的時候會回傳 None ，因此可把 search() 或 match() 等當成布林函數，如果回傳為真才進行處理，例如以下程式可判斷是否為 Python 檔案\n",
    "\n",
    "import sys\n",
    "import re\n",
    "\n",
    "try:\n",
    "    filename = sys.argv[1]\n",
    "    pattern = r\"[a-zA-Z0-9]+(.py)\"\n",
    "    if re.fullmatch(pattern, filename):\n",
    "        print(\"是Python檔案..\")\n",
    "    else:\n",
    "        print(\"不是Python檔案..\")\n",
    "except:\n",
    "    print(\"未提供檔案名稱..\")\n",
    "    \n",
    "#《程式語言教學誌》的範例程式\n",
    "# http://kaiching.org/\n",
    "# 檔名：redemo.py\n",
    "# 功能：示範 re 模組\n",
    "# 作者：張凱慶\n",
    "於命令列執行以上程式\n",
    "\n",
    "$ python3 redemo.py test.py\n",
    "是Python檔案..\n",
    "$\n",
    "這裡， filename 是利用 sys 模組取得 python 指令之後接的命令列參數， argv[0] 為所執行的 Python 模組檔案，因此 argv[1] 為模組檔案後的參數，也就是執行模組檔案後空一格所接的文字，由以上命令列執行接的是 test.py\n",
    "\n",
    "filename = sys.argv[1]\n",
    "下一行配對字串是所有英文字母及數字的組合，加上 .py 的副檔名\n",
    "\n",
    "pattern = r\"[a-zA-Z0-9]+(.py)\"\n",
    "最後用 if 陳述利用 fullmatch() 函數判斷 pattern 與 filename 是否完全吻合，然後印出相對應的訊息\n",
    "\n",
    "if re.fullmatch(pattern, filename):\n",
    "如果是英文字母與數字以外的 Python 檔案名稱，用此例的程式碼都會判斷為「不是Python檔案..」。\n"
   ]
  },
  {
   "cell_type": "code",
   "execution_count": 7,
   "metadata": {},
   "outputs": [
    {
     "data": {
      "text/plain": [
       "([7.5, 8, 4.75, 2, 8], 'sum = 30.25')"
      ]
     },
     "execution_count": 7,
     "metadata": {},
     "output_type": "execute_result"
    }
   ],
   "source": [
    "#情境 3：限制數量\n",
    "#限制列表 (List) 儲存空間的長度。\n",
    "# 定義函數\n",
    "def number_sum_limit(nums, limit):\n",
    "    result = []\n",
    "    s = 0\n",
    "    for num in nums:\n",
    "        if len(result) == limit:\n",
    "            break\n",
    "        if type(num) == str:\n",
    "            continue\n",
    "        result.append(num)\n",
    "        #s += num\n",
    "        s=sum(result)\n",
    "    \n",
    "    return result, 'sum = {}'.format(s)\n",
    "# 呼叫函數\n",
    "number_sum_limit(nums = [7.5, 8, 'aa', 4.75, 'bb', 2, 8, 5, 6], limit = 5)\n",
    "#📝 Note：利用 break 告訴迴圈當 result 列表 (List) 中的元素數量超過 5 個時，必須停止繼續加總剩下的值，強制結束迴圈。\n",
    "#利用 continue 告訴迴圈當元素的 type 為字符串時，要跳出本次迴圈，繼續進入下一圈執行。"
   ]
  },
  {
   "cell_type": "code",
   "execution_count": null,
   "metadata": {},
   "outputs": [],
   "source": []
  }
 ],
 "metadata": {
  "kernelspec": {
   "display_name": "Python 3",
   "language": "python",
   "name": "python3"
  },
  "language_info": {
   "codemirror_mode": {
    "name": "ipython",
    "version": 3
   },
   "file_extension": ".py",
   "mimetype": "text/x-python",
   "name": "python",
   "nbconvert_exporter": "python",
   "pygments_lexer": "ipython3",
   "version": "3.7.4"
  }
 },
 "nbformat": 4,
 "nbformat_minor": 2
}
